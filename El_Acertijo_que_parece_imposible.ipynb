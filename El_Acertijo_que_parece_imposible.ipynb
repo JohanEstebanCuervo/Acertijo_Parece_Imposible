{
  "nbformat": 4,
  "nbformat_minor": 0,
  "metadata": {
    "colab": {
      "provenance": [],
      "collapsed_sections": [],
      "authorship_tag": "ABX9TyOqScUhmuWWtJorliCHrPRE",
      "include_colab_link": true
    },
    "kernelspec": {
      "name": "python3",
      "display_name": "Python 3"
    },
    "language_info": {
      "name": "python"
    }
  },
  "cells": [
    {
      "cell_type": "markdown",
      "metadata": {
        "id": "view-in-github",
        "colab_type": "text"
      },
      "source": [
        "<a href=\"https://colab.research.google.com/github/JohanEstebanCuervo/Acertijo_Parece_Imposible/blob/main/El_Acertijo_que_parece_imposible.ipynb\" target=\"_parent\"><img src=\"https://colab.research.google.com/assets/colab-badge.svg\" alt=\"Open In Colab\"/></a>"
      ]
    },
    {
      "cell_type": "markdown",
      "source": [
        "# Librerias"
      ],
      "metadata": {
        "id": "JlM6x6-Xh862"
      }
    },
    {
      "cell_type": "code",
      "execution_count": null,
      "metadata": {
        "id": "b_h_wX4Why2W"
      },
      "outputs": [],
      "source": [
        "import numpy as np\n",
        "import matplotlib.pyplot as plt"
      ]
    },
    {
      "cell_type": "markdown",
      "source": [
        "# Variables"
      ],
      "metadata": {
        "id": "X_hXjxLLiEKh"
      }
    },
    {
      "cell_type": "code",
      "source": [
        "numero_presos = 100   # Número de presos \n",
        "cajas_abrir = numero_presos//2 # Cantidad de caja a abrir la mitad del número de presos\n",
        "intentos = 10000 # Cantidad de veces que se va a repetir la prueba"
      ],
      "metadata": {
        "id": "KhGMwDxXiHBG"
      },
      "execution_count": null,
      "outputs": []
    },
    {
      "cell_type": "markdown",
      "source": [
        "# Código"
      ],
      "metadata": {
        "id": "GzcopUeaiplo"
      }
    },
    {
      "cell_type": "code",
      "source": [
        "fracasos = 0\n",
        "for intento in range(intentos):\n",
        "  lista = np.array(range(numero_presos)) # Array con la lista de presos\n",
        "  np.random.shuffle(lista) # Se desordena el array aletoriamente\n",
        "\n",
        "  for preso in range(numero_presos): # Se recorre cada preso\n",
        "    numero_encontrado = lista[preso] # Se destapa la primer caja y se obtiene su número\n",
        "    cajas_abiertas = 1\n",
        "    while (cajas_abiertas<=cajas_abrir and numero_encontrado!=preso):\n",
        "      # Ciclo que se mantiene mientras no se encuentre el número y las\n",
        "      # cajas abiertas no pasen un limite.\n",
        "\n",
        "      numero_encontrado = lista[numero_encontrado] # Se abre la siguiente caja\n",
        "      cajas_abiertas += 1\n",
        "\n",
        "    if cajas_abiertas>cajas_abrir: # Si un solo preso falla\n",
        "      fracasos += 1 # Aumentamos los fracasos\n",
        "      break # Rompemos el ciclo ya que un preso fallo\n",
        "\n",
        "exitos = intentos - fracasos # Los exitos son las veces que no se fracaso en el intento\n",
        "print('Exitos: ', exitos)\n",
        "print('Fracaso: ', fracasos)"
      ],
      "metadata": {
        "id": "vNkH1uMsisXe",
        "colab": {
          "base_uri": "https://localhost:8080/"
        },
        "outputId": "c9f9345a-670c-4d2a-f4c4-96309caf7919"
      },
      "execution_count": null,
      "outputs": [
        {
          "output_type": "stream",
          "name": "stdout",
          "text": [
            "Exitos:  3145\n",
            "Fracaso:  6855\n"
          ]
        }
      ]
    },
    {
      "cell_type": "markdown",
      "source": [
        "# Gráfica"
      ],
      "metadata": {
        "id": "Gy-AL_MPnOtJ"
      }
    },
    {
      "cell_type": "code",
      "source": [
        "plt.figure(figsize=(10, 10))\n",
        "plt.pie([exitos, fracasos], labels = ['Exitos ' + str(exitos/intentos), 'Fracasos ' + str(fracasos/intentos)])\n",
        "plt.title('Diagrama pastel')\n",
        "plt.show()"
      ],
      "metadata": {
        "colab": {
          "base_uri": "https://localhost:8080/",
          "height": 591
        },
        "id": "qdhBeyhanNcV",
        "outputId": "c0853b5e-a6c0-48d0-f2e3-a702b0bbc11f"
      },
      "execution_count": null,
      "outputs": [
        {
          "output_type": "display_data",
          "data": {
            "text/plain": [
              "<Figure size 720x720 with 1 Axes>"
            ],
            "image/png": "[encoded data removed]"
          },
          "metadata": {}
        }
      ]
    }
  ]
}